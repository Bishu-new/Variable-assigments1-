{
 "cells": [
  {
   "cell_type": "markdown",
   "id": "831d1449-7641-47fc-b425-f344dd3fcbac",
   "metadata": {},
   "source": [
    "There are many naming convention i python "
   ]
  },
  {
   "cell_type": "markdown",
   "id": "e9a8f744-288c-42ef-a1a2-0b304cbff192",
   "metadata": {},
   "source": [
    "Like for example "
   ]
  },
  {
   "cell_type": "markdown",
   "id": "6e731f68-ae43-434f-b0ca-a8928597f283",
   "metadata": {},
   "source": [
    "The most fundamental rules in Python’s naming conventions are:\n",
    "\n",
    "Names are case-sensitive.\n",
    "Names cannot start with a digit.\n",
    "Names can contain letters, numbers, and underscores.\n"
   ]
  },
  {
   "cell_type": "markdown",
   "id": "a15e98f8-33a1-4239-ab0c-8422efe196be",
   "metadata": {},
   "source": [
    "2. If we declare reserved variable in python then we will get syntex error ."
   ]
  },
  {
   "cell_type": "code",
   "execution_count": 1,
   "id": "699a5a9b-70ff-441d-b5c7-1cbb2b72f6af",
   "metadata": {},
   "outputs": [
    {
     "ename": "SyntaxError",
     "evalue": "invalid syntax (3217395553.py, line 1)",
     "output_type": "error",
     "traceback": [
      "\u001b[0;36m  Cell \u001b[0;32mIn[1], line 1\u001b[0;36m\u001b[0m\n\u001b[0;31m    from = \"Bishu\"\u001b[0m\n\u001b[0m         ^\u001b[0m\n\u001b[0;31mSyntaxError\u001b[0m\u001b[0;31m:\u001b[0m invalid syntax\n"
     ]
    }
   ],
   "source": [
    "from = \"Bishu\""
   ]
  },
  {
   "cell_type": "markdown",
   "id": "7e800be3-4082-4de1-855c-0e617c7251da",
   "metadata": {},
   "source": [
    "example above "
   ]
  },
  {
   "cell_type": "markdown",
   "id": "8f35bc08-1c10-47a6-831e-f8798d453050",
   "metadata": {},
   "source": [
    "3. No we will not be able to declare string as a variable , \n",
    " what we can do is we can use the local function to call which return the directory. we can then assign a value to a key that matches the string .  "
   ]
  },
  {
   "cell_type": "markdown",
   "id": "989d6be5-7fb1-4d98-bc3f-4aeb0b46f2f1",
   "metadata": {},
   "source": [
    "4. yes It is Possible to declare '_' as varibale \n",
    "below is the example "
   ]
  },
  {
   "cell_type": "code",
   "execution_count": 1,
   "id": "4c956e63-3a4f-4e31-81a0-6b3ee35097f0",
   "metadata": {},
   "outputs": [],
   "source": [
    "_ = 20"
   ]
  },
  {
   "cell_type": "code",
   "execution_count": 2,
   "id": "a0129ac8-67b8-4064-b90e-f532278326b4",
   "metadata": {},
   "outputs": [
    {
     "data": {
      "text/plain": [
       "20"
      ]
     },
     "execution_count": 2,
     "metadata": {},
     "output_type": "execute_result"
    }
   ],
   "source": [
    "_"
   ]
  },
  {
   "cell_type": "markdown",
   "id": "7a61b079-fd95-401c-9a74-7eefd23feb20",
   "metadata": {},
   "source": [
    "Variables in Python are dynamic in nature, which means that their data type can change during the runtime of a program. Here is an example that demonstrates this:"
   ]
  },
  {
   "cell_type": "code",
   "execution_count": 3,
   "id": "431a46b7-adb3-4080-baac-4ded491beef6",
   "metadata": {},
   "outputs": [],
   "source": [
    "x = 10"
   ]
  },
  {
   "cell_type": "code",
   "execution_count": 4,
   "id": "cd79046f-0167-4b04-a2f5-8951ab6792ea",
   "metadata": {},
   "outputs": [
    {
     "data": {
      "text/plain": [
       "10"
      ]
     },
     "execution_count": 4,
     "metadata": {},
     "output_type": "execute_result"
    }
   ],
   "source": [
    "x"
   ]
  },
  {
   "cell_type": "code",
   "execution_count": 5,
   "id": "8ac04729-ea31-48cb-9c04-1d156d8daa94",
   "metadata": {},
   "outputs": [],
   "source": [
    "x = \"python\""
   ]
  },
  {
   "cell_type": "code",
   "execution_count": 6,
   "id": "beab7710-87e7-4b38-af23-159b06e3e45a",
   "metadata": {},
   "outputs": [
    {
     "data": {
      "text/plain": [
       "'python'"
      ]
     },
     "execution_count": 6,
     "metadata": {},
     "output_type": "execute_result"
    }
   ],
   "source": [
    "x"
   ]
  },
  {
   "cell_type": "markdown",
   "id": "dc9352d6-d3c7-4c8d-add5-6a2a3e42c3c0",
   "metadata": {},
   "source": [
    "4. code to store a numerical value inside a variable and then convert into string "
   ]
  },
  {
   "cell_type": "code",
   "execution_count": 1,
   "id": "9097eebb-e777-4fe1-877c-f5f04bcfe29d",
   "metadata": {},
   "outputs": [],
   "source": [
    "# storing a numerical value inside the variable \n",
    "\n",
    "num = 60"
   ]
  },
  {
   "cell_type": "code",
   "execution_count": 2,
   "id": "ada55184-d3c4-4ea5-895c-ae8e38b30054",
   "metadata": {},
   "outputs": [
    {
     "data": {
      "text/plain": [
       "60"
      ]
     },
     "execution_count": 2,
     "metadata": {},
     "output_type": "execute_result"
    }
   ],
   "source": [
    "num "
   ]
  },
  {
   "cell_type": "code",
   "execution_count": 5,
   "id": "b5c49e4f-922c-481b-9dbf-e782515d5e33",
   "metadata": {},
   "outputs": [],
   "source": [
    "#converting a numerical variable into string \n",
    "\n",
    "num_str = str(num)"
   ]
  },
  {
   "cell_type": "code",
   "execution_count": 6,
   "id": "9c11dfc9-bc3e-456c-ac62-e1567838cf07",
   "metadata": {},
   "outputs": [
    {
     "data": {
      "text/plain": [
       "'60'"
      ]
     },
     "execution_count": 6,
     "metadata": {},
     "output_type": "execute_result"
    }
   ],
   "source": [
    "str(num)"
   ]
  },
  {
   "cell_type": "code",
   "execution_count": null,
   "id": "1a7fb642-abe9-4b07-80b9-d0ac5b433385",
   "metadata": {},
   "outputs": [],
   "source": []
  }
 ],
 "metadata": {
  "kernelspec": {
   "display_name": "Python 3 (ipykernel)",
   "language": "python",
   "name": "python3"
  },
  "language_info": {
   "codemirror_mode": {
    "name": "ipython",
    "version": 3
   },
   "file_extension": ".py",
   "mimetype": "text/x-python",
   "name": "python",
   "nbconvert_exporter": "python",
   "pygments_lexer": "ipython3",
   "version": "3.10.8"
  }
 },
 "nbformat": 4,
 "nbformat_minor": 5
}
